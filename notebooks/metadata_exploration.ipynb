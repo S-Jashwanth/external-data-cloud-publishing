{
  "cells": [
    {
      "cell_type": "markdown",
      "metadata": {},
      "source": [
        "# Metadata Exploration\\n\\nThis notebook demonstrates local metadata extraction."
      ]
    },
    {
      "cell_type": "code",
      "metadata": {},
      "source": [
        "from src.metadata_extractor import extract_metadata_local\\nprint(extract_metadata_local('data/raw/customers.csv'))"
      ],
      "outputs": [],
      "execution_count": null
    }
  ],
  "metadata": {},
  "nbformat": 4,
  "nbformat_minor": 5
}